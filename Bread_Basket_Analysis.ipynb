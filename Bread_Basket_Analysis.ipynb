{
  "nbformat": 4,
  "nbformat_minor": 0,
  "metadata": {
    "colab": {
      "name": "Bread Basket Analysis.ipynb",
      "provenance": [],
      "collapsed_sections": [],
      "authorship_tag": "ABX9TyNLuKrGJo9MN0Zmgg/C0z6G",
      "include_colab_link": true
    },
    "kernelspec": {
      "name": "python3",
      "display_name": "Python 3"
    },
    "language_info": {
      "name": "python"
    }
  },
  "cells": [
    {
      "cell_type": "markdown",
      "metadata": {
        "id": "view-in-github",
        "colab_type": "text"
      },
      "source": [
        "<a href=\"https://colab.research.google.com/github/cnagineni23/My-First-Project/blob/main/Bread_Basket_Analysis.ipynb\" target=\"_parent\"><img src=\"https://colab.research.google.com/assets/colab-badge.svg\" alt=\"Open In Colab\"/></a>"
      ]
    },
    {
      "cell_type": "markdown",
      "metadata": {
        "id": "K2IPvNrpsRii"
      },
      "source": [
        "#Implementing Bread Basket Analysis"
      ]
    },
    {
      "cell_type": "code",
      "metadata": {
        "id": "YXIYU5woyIsg"
      },
      "source": [
        "#Loading neccesary packages\n",
        "\n",
        "import pandas as pd\n",
        "import numpy as np\n",
        "from mlxtend.frequent_patterns import apriori\n",
        "from mlxtend.frequent_patterns import association_rules"
      ],
      "execution_count": 1,
      "outputs": []
    },
    {
      "cell_type": "code",
      "metadata": {
        "id": "2hhiDf8UyjSf"
      },
      "source": [
        "#importing the dataset and creating a dataframe\n",
        "\n",
        "df=pd.read_csv('/content/bread basket.csv')"
      ],
      "execution_count": 2,
      "outputs": []
    },
    {
      "cell_type": "code",
      "metadata": {
        "colab": {
          "base_uri": "https://localhost:8080/",
          "height": 204
        },
        "id": "Cvw1ng4PyzlI",
        "outputId": "81e59fd2-bb71-428b-a57b-50bc0e012130"
      },
      "source": [
        "df.head()"
      ],
      "execution_count": 3,
      "outputs": [
        {
          "output_type": "execute_result",
          "data": {
            "text/html": [
              "<div>\n",
              "<style scoped>\n",
              "    .dataframe tbody tr th:only-of-type {\n",
              "        vertical-align: middle;\n",
              "    }\n",
              "\n",
              "    .dataframe tbody tr th {\n",
              "        vertical-align: top;\n",
              "    }\n",
              "\n",
              "    .dataframe thead th {\n",
              "        text-align: right;\n",
              "    }\n",
              "</style>\n",
              "<table border=\"1\" class=\"dataframe\">\n",
              "  <thead>\n",
              "    <tr style=\"text-align: right;\">\n",
              "      <th></th>\n",
              "      <th>Transaction</th>\n",
              "      <th>Item</th>\n",
              "      <th>date_time</th>\n",
              "      <th>period_day</th>\n",
              "      <th>weekday_weekend</th>\n",
              "    </tr>\n",
              "  </thead>\n",
              "  <tbody>\n",
              "    <tr>\n",
              "      <th>0</th>\n",
              "      <td>1</td>\n",
              "      <td>Bread</td>\n",
              "      <td>30-10-2016 09:58</td>\n",
              "      <td>morning</td>\n",
              "      <td>weekend</td>\n",
              "    </tr>\n",
              "    <tr>\n",
              "      <th>1</th>\n",
              "      <td>2</td>\n",
              "      <td>Scandinavian</td>\n",
              "      <td>30-10-2016 10:05</td>\n",
              "      <td>morning</td>\n",
              "      <td>weekend</td>\n",
              "    </tr>\n",
              "    <tr>\n",
              "      <th>2</th>\n",
              "      <td>2</td>\n",
              "      <td>Scandinavian</td>\n",
              "      <td>30-10-2016 10:05</td>\n",
              "      <td>morning</td>\n",
              "      <td>weekend</td>\n",
              "    </tr>\n",
              "    <tr>\n",
              "      <th>3</th>\n",
              "      <td>3</td>\n",
              "      <td>Hot chocolate</td>\n",
              "      <td>30-10-2016 10:07</td>\n",
              "      <td>morning</td>\n",
              "      <td>weekend</td>\n",
              "    </tr>\n",
              "    <tr>\n",
              "      <th>4</th>\n",
              "      <td>3</td>\n",
              "      <td>Jam</td>\n",
              "      <td>30-10-2016 10:07</td>\n",
              "      <td>morning</td>\n",
              "      <td>weekend</td>\n",
              "    </tr>\n",
              "  </tbody>\n",
              "</table>\n",
              "</div>"
            ],
            "text/plain": [
              "   Transaction           Item         date_time period_day weekday_weekend\n",
              "0            1          Bread  30-10-2016 09:58    morning         weekend\n",
              "1            2   Scandinavian  30-10-2016 10:05    morning         weekend\n",
              "2            2   Scandinavian  30-10-2016 10:05    morning         weekend\n",
              "3            3  Hot chocolate  30-10-2016 10:07    morning         weekend\n",
              "4            3            Jam  30-10-2016 10:07    morning         weekend"
            ]
          },
          "metadata": {},
          "execution_count": 3
        }
      ]
    },
    {
      "cell_type": "markdown",
      "metadata": {
        "id": "8HWJ8dYDsg-o"
      },
      "source": [
        "###Data Preparation"
      ]
    },
    {
      "cell_type": "code",
      "metadata": {
        "id": "p321TYHuHFK0"
      },
      "source": [
        "df['date_time']=pd.to_datetime(df['date_time'])"
      ],
      "execution_count": 4,
      "outputs": []
    },
    {
      "cell_type": "code",
      "metadata": {
        "id": "d6c-r26cHJjq"
      },
      "source": [
        " #seperating date from the date_time column\n",
        " \n",
        "df['date']=df['date_time'].dt.date"
      ],
      "execution_count": 5,
      "outputs": []
    },
    {
      "cell_type": "code",
      "metadata": {
        "id": "P8Uuboq3H9LU"
      },
      "source": [
        "#seperating month from the date_time column for better understanding\n",
        "\n",
        "df['month']=df['date_time'].dt.month\n",
        "\n",
        "df['month'] = df['month'].replace((1,2,3,4,5,6,7,8,9,10,11,12), \n",
        "                                          ('January','February','March','April','May','June','July','August',\n",
        "                                          'September','October','November','December'))\n",
        "\n",
        "df['weekday'] = df['date_time'].dt.weekday\n",
        "df['weekday'] = df['weekday'].replace((0,1,2,3,4,5,6), \n",
        "                                          ('Monday','Tuesday','Wednesday','Thursday','Friday','Saturday','Sunday'))"
      ],
      "execution_count": 6,
      "outputs": []
    },
    {
      "cell_type": "code",
      "metadata": {
        "id": "v2OfFj7vHOju"
      },
      "source": [
        "df['time']=df['date_time'].dt.time"
      ],
      "execution_count": 7,
      "outputs": []
    },
    {
      "cell_type": "code",
      "metadata": {
        "id": "hpkJd2mBHqdh"
      },
      "source": [
        "df.drop('date_time', axis = 1, inplace=True)"
      ],
      "execution_count": 8,
      "outputs": []
    },
    {
      "cell_type": "code",
      "metadata": {
        "colab": {
          "base_uri": "https://localhost:8080/"
        },
        "id": "jQRd4wM0y0u-",
        "outputId": "d9889206-a174-4626-b6b8-91e54ef96512"
      },
      "source": [
        "df.shape"
      ],
      "execution_count": 9,
      "outputs": [
        {
          "output_type": "execute_result",
          "data": {
            "text/plain": [
              "(20507, 8)"
            ]
          },
          "metadata": {},
          "execution_count": 9
        }
      ]
    },
    {
      "cell_type": "code",
      "metadata": {
        "colab": {
          "base_uri": "https://localhost:8080/"
        },
        "id": "FApQtJw4BLiW",
        "outputId": "464a922e-5d59-40cc-f397-cd242d9ca3d2"
      },
      "source": [
        "df['period_day'].value_counts()"
      ],
      "execution_count": 10,
      "outputs": [
        {
          "output_type": "execute_result",
          "data": {
            "text/plain": [
              "afternoon    11569\n",
              "morning       8404\n",
              "evening        520\n",
              "night           14\n",
              "Name: period_day, dtype: int64"
            ]
          },
          "metadata": {},
          "execution_count": 10
        }
      ]
    },
    {
      "cell_type": "code",
      "metadata": {
        "colab": {
          "base_uri": "https://localhost:8080/"
        },
        "id": "M9d-DIwe829f",
        "outputId": "531196a1-de47-46c3-ac73-f4d033856dab"
      },
      "source": [
        "df.info()"
      ],
      "execution_count": 11,
      "outputs": [
        {
          "output_type": "stream",
          "name": "stdout",
          "text": [
            "<class 'pandas.core.frame.DataFrame'>\n",
            "RangeIndex: 20507 entries, 0 to 20506\n",
            "Data columns (total 8 columns):\n",
            " #   Column           Non-Null Count  Dtype \n",
            "---  ------           --------------  ----- \n",
            " 0   Transaction      20507 non-null  int64 \n",
            " 1   Item             20507 non-null  object\n",
            " 2   period_day       20507 non-null  object\n",
            " 3   weekday_weekend  20507 non-null  object\n",
            " 4   date             20507 non-null  object\n",
            " 5   month            20507 non-null  object\n",
            " 6   weekday          20507 non-null  object\n",
            " 7   time             20507 non-null  object\n",
            "dtypes: int64(1), object(7)\n",
            "memory usage: 1.3+ MB\n"
          ]
        }
      ]
    },
    {
      "cell_type": "code",
      "metadata": {
        "colab": {
          "base_uri": "https://localhost:8080/",
          "height": 204
        },
        "id": "n7UsQMwDz4kQ",
        "outputId": "c74549fe-5c13-4e76-eb53-15a22679aaf4"
      },
      "source": [
        "#data cleaning\n",
        "\n",
        "df['Item'] = df['Item'].str.strip()\n",
        "df.dropna(axis=0, subset=['Transaction'], inplace=True)\n",
        "df['Transaction'] = df['Transaction'].astype('str')\n",
        "df.head()"
      ],
      "execution_count": 12,
      "outputs": [
        {
          "output_type": "execute_result",
          "data": {
            "text/html": [
              "<div>\n",
              "<style scoped>\n",
              "    .dataframe tbody tr th:only-of-type {\n",
              "        vertical-align: middle;\n",
              "    }\n",
              "\n",
              "    .dataframe tbody tr th {\n",
              "        vertical-align: top;\n",
              "    }\n",
              "\n",
              "    .dataframe thead th {\n",
              "        text-align: right;\n",
              "    }\n",
              "</style>\n",
              "<table border=\"1\" class=\"dataframe\">\n",
              "  <thead>\n",
              "    <tr style=\"text-align: right;\">\n",
              "      <th></th>\n",
              "      <th>Transaction</th>\n",
              "      <th>Item</th>\n",
              "      <th>period_day</th>\n",
              "      <th>weekday_weekend</th>\n",
              "      <th>date</th>\n",
              "      <th>month</th>\n",
              "      <th>weekday</th>\n",
              "      <th>time</th>\n",
              "    </tr>\n",
              "  </thead>\n",
              "  <tbody>\n",
              "    <tr>\n",
              "      <th>0</th>\n",
              "      <td>1</td>\n",
              "      <td>Bread</td>\n",
              "      <td>morning</td>\n",
              "      <td>weekend</td>\n",
              "      <td>2016-10-30</td>\n",
              "      <td>October</td>\n",
              "      <td>Sunday</td>\n",
              "      <td>09:58:00</td>\n",
              "    </tr>\n",
              "    <tr>\n",
              "      <th>1</th>\n",
              "      <td>2</td>\n",
              "      <td>Scandinavian</td>\n",
              "      <td>morning</td>\n",
              "      <td>weekend</td>\n",
              "      <td>2016-10-30</td>\n",
              "      <td>October</td>\n",
              "      <td>Sunday</td>\n",
              "      <td>10:05:00</td>\n",
              "    </tr>\n",
              "    <tr>\n",
              "      <th>2</th>\n",
              "      <td>2</td>\n",
              "      <td>Scandinavian</td>\n",
              "      <td>morning</td>\n",
              "      <td>weekend</td>\n",
              "      <td>2016-10-30</td>\n",
              "      <td>October</td>\n",
              "      <td>Sunday</td>\n",
              "      <td>10:05:00</td>\n",
              "    </tr>\n",
              "    <tr>\n",
              "      <th>3</th>\n",
              "      <td>3</td>\n",
              "      <td>Hot chocolate</td>\n",
              "      <td>morning</td>\n",
              "      <td>weekend</td>\n",
              "      <td>2016-10-30</td>\n",
              "      <td>October</td>\n",
              "      <td>Sunday</td>\n",
              "      <td>10:07:00</td>\n",
              "    </tr>\n",
              "    <tr>\n",
              "      <th>4</th>\n",
              "      <td>3</td>\n",
              "      <td>Jam</td>\n",
              "      <td>morning</td>\n",
              "      <td>weekend</td>\n",
              "      <td>2016-10-30</td>\n",
              "      <td>October</td>\n",
              "      <td>Sunday</td>\n",
              "      <td>10:07:00</td>\n",
              "    </tr>\n",
              "  </tbody>\n",
              "</table>\n",
              "</div>"
            ],
            "text/plain": [
              "  Transaction           Item period_day  ...    month weekday      time\n",
              "0           1          Bread    morning  ...  October  Sunday  09:58:00\n",
              "1           2   Scandinavian    morning  ...  October  Sunday  10:05:00\n",
              "2           2   Scandinavian    morning  ...  October  Sunday  10:05:00\n",
              "3           3  Hot chocolate    morning  ...  October  Sunday  10:07:00\n",
              "4           3            Jam    morning  ...  October  Sunday  10:07:00\n",
              "\n",
              "[5 rows x 8 columns]"
            ]
          },
          "metadata": {},
          "execution_count": 12
        }
      ]
    },
    {
      "cell_type": "code",
      "metadata": {
        "colab": {
          "base_uri": "https://localhost:8080/"
        },
        "id": "5DM8FIDu1G2I",
        "outputId": "235e01e1-4566-4e26-e927-e92db611871f"
      },
      "source": [
        "df['Item'].value_counts()"
      ],
      "execution_count": 13,
      "outputs": [
        {
          "output_type": "execute_result",
          "data": {
            "text/plain": [
              "Coffee          5471\n",
              "Bread           3325\n",
              "Tea             1435\n",
              "Cake            1025\n",
              "Pastry           856\n",
              "                ... \n",
              "Raw bars           1\n",
              "Bacon              1\n",
              "Chicken sand       1\n",
              "The BART           1\n",
              "Adjustment         1\n",
              "Name: Item, Length: 94, dtype: int64"
            ]
          },
          "metadata": {},
          "execution_count": 13
        }
      ]
    },
    {
      "cell_type": "code",
      "metadata": {
        "colab": {
          "base_uri": "https://localhost:8080/",
          "height": 35
        },
        "id": "2krYGIU51Q9e",
        "outputId": "b592880a-e347-4008-ff40-56d6e68cafa6"
      },
      "source": [
        "#viewing max transactions\n",
        "\n",
        "df['Transaction'].max() "
      ],
      "execution_count": 14,
      "outputs": [
        {
          "output_type": "execute_result",
          "data": {
            "application/vnd.google.colaboratory.intrinsic+json": {
              "type": "string"
            },
            "text/plain": [
              "'999'"
            ]
          },
          "metadata": {},
          "execution_count": 14
        }
      ]
    },
    {
      "cell_type": "markdown",
      "metadata": {
        "id": "xpzTZGKYtohu"
      },
      "source": [
        "###Training Model"
      ]
    },
    {
      "cell_type": "code",
      "metadata": {
        "colab": {
          "base_uri": "https://localhost:8080/",
          "height": 335
        },
        "id": "P2w5gwO84DFg",
        "outputId": "6998ba08-c398-424d-d88c-dbc9487d953c"
      },
      "source": [
        "def encoder(x):\n",
        "    if x <= 0:\n",
        "        return 0\n",
        "    if x >= 1:\n",
        "        return 1\n",
        "\n",
        "apriori_data = df.groupby(['Transaction','Item'])['Item'].count().reset_index(name ='Count')\n",
        "apriori_basket = apriori_data.pivot_table(index = 'Transaction', columns = 'Item', values = 'Count', aggfunc = 'sum').fillna(0)\n",
        "apriori_basket_set = apriori_basket.applymap(encoder)\n",
        "apriori_basket_set.head()"
      ],
      "execution_count": 15,
      "outputs": [
        {
          "output_type": "execute_result",
          "data": {
            "text/html": [
              "<div>\n",
              "<style scoped>\n",
              "    .dataframe tbody tr th:only-of-type {\n",
              "        vertical-align: middle;\n",
              "    }\n",
              "\n",
              "    .dataframe tbody tr th {\n",
              "        vertical-align: top;\n",
              "    }\n",
              "\n",
              "    .dataframe thead th {\n",
              "        text-align: right;\n",
              "    }\n",
              "</style>\n",
              "<table border=\"1\" class=\"dataframe\">\n",
              "  <thead>\n",
              "    <tr style=\"text-align: right;\">\n",
              "      <th>Item</th>\n",
              "      <th>Adjustment</th>\n",
              "      <th>Afternoon with the baker</th>\n",
              "      <th>Alfajores</th>\n",
              "      <th>Argentina Night</th>\n",
              "      <th>Art Tray</th>\n",
              "      <th>Bacon</th>\n",
              "      <th>Baguette</th>\n",
              "      <th>Bakewell</th>\n",
              "      <th>Bare Popcorn</th>\n",
              "      <th>Basket</th>\n",
              "      <th>Bowl Nic Pitt</th>\n",
              "      <th>Bread</th>\n",
              "      <th>Bread Pudding</th>\n",
              "      <th>Brioche and salami</th>\n",
              "      <th>Brownie</th>\n",
              "      <th>Cake</th>\n",
              "      <th>Caramel bites</th>\n",
              "      <th>Cherry me Dried fruit</th>\n",
              "      <th>Chicken Stew</th>\n",
              "      <th>Chicken sand</th>\n",
              "      <th>Chimichurri Oil</th>\n",
              "      <th>Chocolates</th>\n",
              "      <th>Christmas common</th>\n",
              "      <th>Coffee</th>\n",
              "      <th>Coffee granules</th>\n",
              "      <th>Coke</th>\n",
              "      <th>Cookies</th>\n",
              "      <th>Crepes</th>\n",
              "      <th>Crisps</th>\n",
              "      <th>Drinking chocolate spoons</th>\n",
              "      <th>Duck egg</th>\n",
              "      <th>Dulce de Leche</th>\n",
              "      <th>Eggs</th>\n",
              "      <th>Ella's Kitchen Pouches</th>\n",
              "      <th>Empanadas</th>\n",
              "      <th>Extra Salami or Feta</th>\n",
              "      <th>Fairy Doors</th>\n",
              "      <th>Farm House</th>\n",
              "      <th>Focaccia</th>\n",
              "      <th>Frittata</th>\n",
              "      <th>...</th>\n",
              "      <th>Lemon and coconut</th>\n",
              "      <th>Medialuna</th>\n",
              "      <th>Mighty Protein</th>\n",
              "      <th>Mineral water</th>\n",
              "      <th>Mortimer</th>\n",
              "      <th>Muesli</th>\n",
              "      <th>Muffin</th>\n",
              "      <th>My-5 Fruit Shoot</th>\n",
              "      <th>Nomad bag</th>\n",
              "      <th>Olum &amp; polenta</th>\n",
              "      <th>Panatone</th>\n",
              "      <th>Pastry</th>\n",
              "      <th>Pick and Mix Bowls</th>\n",
              "      <th>Pintxos</th>\n",
              "      <th>Polenta</th>\n",
              "      <th>Postcard</th>\n",
              "      <th>Raspberry shortbread sandwich</th>\n",
              "      <th>Raw bars</th>\n",
              "      <th>Salad</th>\n",
              "      <th>Sandwich</th>\n",
              "      <th>Scandinavian</th>\n",
              "      <th>Scone</th>\n",
              "      <th>Siblings</th>\n",
              "      <th>Smoothies</th>\n",
              "      <th>Soup</th>\n",
              "      <th>Spanish Brunch</th>\n",
              "      <th>Spread</th>\n",
              "      <th>Tacos/Fajita</th>\n",
              "      <th>Tartine</th>\n",
              "      <th>Tea</th>\n",
              "      <th>The BART</th>\n",
              "      <th>The Nomad</th>\n",
              "      <th>Tiffin</th>\n",
              "      <th>Toast</th>\n",
              "      <th>Truffles</th>\n",
              "      <th>Tshirt</th>\n",
              "      <th>Valentine's card</th>\n",
              "      <th>Vegan Feast</th>\n",
              "      <th>Vegan mincepie</th>\n",
              "      <th>Victorian Sponge</th>\n",
              "    </tr>\n",
              "    <tr>\n",
              "      <th>Transaction</th>\n",
              "      <th></th>\n",
              "      <th></th>\n",
              "      <th></th>\n",
              "      <th></th>\n",
              "      <th></th>\n",
              "      <th></th>\n",
              "      <th></th>\n",
              "      <th></th>\n",
              "      <th></th>\n",
              "      <th></th>\n",
              "      <th></th>\n",
              "      <th></th>\n",
              "      <th></th>\n",
              "      <th></th>\n",
              "      <th></th>\n",
              "      <th></th>\n",
              "      <th></th>\n",
              "      <th></th>\n",
              "      <th></th>\n",
              "      <th></th>\n",
              "      <th></th>\n",
              "      <th></th>\n",
              "      <th></th>\n",
              "      <th></th>\n",
              "      <th></th>\n",
              "      <th></th>\n",
              "      <th></th>\n",
              "      <th></th>\n",
              "      <th></th>\n",
              "      <th></th>\n",
              "      <th></th>\n",
              "      <th></th>\n",
              "      <th></th>\n",
              "      <th></th>\n",
              "      <th></th>\n",
              "      <th></th>\n",
              "      <th></th>\n",
              "      <th></th>\n",
              "      <th></th>\n",
              "      <th></th>\n",
              "      <th></th>\n",
              "      <th></th>\n",
              "      <th></th>\n",
              "      <th></th>\n",
              "      <th></th>\n",
              "      <th></th>\n",
              "      <th></th>\n",
              "      <th></th>\n",
              "      <th></th>\n",
              "      <th></th>\n",
              "      <th></th>\n",
              "      <th></th>\n",
              "      <th></th>\n",
              "      <th></th>\n",
              "      <th></th>\n",
              "      <th></th>\n",
              "      <th></th>\n",
              "      <th></th>\n",
              "      <th></th>\n",
              "      <th></th>\n",
              "      <th></th>\n",
              "      <th></th>\n",
              "      <th></th>\n",
              "      <th></th>\n",
              "      <th></th>\n",
              "      <th></th>\n",
              "      <th></th>\n",
              "      <th></th>\n",
              "      <th></th>\n",
              "      <th></th>\n",
              "      <th></th>\n",
              "      <th></th>\n",
              "      <th></th>\n",
              "      <th></th>\n",
              "      <th></th>\n",
              "      <th></th>\n",
              "      <th></th>\n",
              "      <th></th>\n",
              "      <th></th>\n",
              "      <th></th>\n",
              "      <th></th>\n",
              "    </tr>\n",
              "  </thead>\n",
              "  <tbody>\n",
              "    <tr>\n",
              "      <th>1</th>\n",
              "      <td>0</td>\n",
              "      <td>0</td>\n",
              "      <td>0</td>\n",
              "      <td>0</td>\n",
              "      <td>0</td>\n",
              "      <td>0</td>\n",
              "      <td>0</td>\n",
              "      <td>0</td>\n",
              "      <td>0</td>\n",
              "      <td>0</td>\n",
              "      <td>0</td>\n",
              "      <td>1</td>\n",
              "      <td>0</td>\n",
              "      <td>0</td>\n",
              "      <td>0</td>\n",
              "      <td>0</td>\n",
              "      <td>0</td>\n",
              "      <td>0</td>\n",
              "      <td>0</td>\n",
              "      <td>0</td>\n",
              "      <td>0</td>\n",
              "      <td>0</td>\n",
              "      <td>0</td>\n",
              "      <td>0</td>\n",
              "      <td>0</td>\n",
              "      <td>0</td>\n",
              "      <td>0</td>\n",
              "      <td>0</td>\n",
              "      <td>0</td>\n",
              "      <td>0</td>\n",
              "      <td>0</td>\n",
              "      <td>0</td>\n",
              "      <td>0</td>\n",
              "      <td>0</td>\n",
              "      <td>0</td>\n",
              "      <td>0</td>\n",
              "      <td>0</td>\n",
              "      <td>0</td>\n",
              "      <td>0</td>\n",
              "      <td>0</td>\n",
              "      <td>...</td>\n",
              "      <td>0</td>\n",
              "      <td>0</td>\n",
              "      <td>0</td>\n",
              "      <td>0</td>\n",
              "      <td>0</td>\n",
              "      <td>0</td>\n",
              "      <td>0</td>\n",
              "      <td>0</td>\n",
              "      <td>0</td>\n",
              "      <td>0</td>\n",
              "      <td>0</td>\n",
              "      <td>0</td>\n",
              "      <td>0</td>\n",
              "      <td>0</td>\n",
              "      <td>0</td>\n",
              "      <td>0</td>\n",
              "      <td>0</td>\n",
              "      <td>0</td>\n",
              "      <td>0</td>\n",
              "      <td>0</td>\n",
              "      <td>0</td>\n",
              "      <td>0</td>\n",
              "      <td>0</td>\n",
              "      <td>0</td>\n",
              "      <td>0</td>\n",
              "      <td>0</td>\n",
              "      <td>0</td>\n",
              "      <td>0</td>\n",
              "      <td>0</td>\n",
              "      <td>0</td>\n",
              "      <td>0</td>\n",
              "      <td>0</td>\n",
              "      <td>0</td>\n",
              "      <td>0</td>\n",
              "      <td>0</td>\n",
              "      <td>0</td>\n",
              "      <td>0</td>\n",
              "      <td>0</td>\n",
              "      <td>0</td>\n",
              "      <td>0</td>\n",
              "    </tr>\n",
              "    <tr>\n",
              "      <th>10</th>\n",
              "      <td>0</td>\n",
              "      <td>0</td>\n",
              "      <td>0</td>\n",
              "      <td>0</td>\n",
              "      <td>0</td>\n",
              "      <td>0</td>\n",
              "      <td>0</td>\n",
              "      <td>0</td>\n",
              "      <td>0</td>\n",
              "      <td>0</td>\n",
              "      <td>0</td>\n",
              "      <td>0</td>\n",
              "      <td>0</td>\n",
              "      <td>0</td>\n",
              "      <td>0</td>\n",
              "      <td>0</td>\n",
              "      <td>0</td>\n",
              "      <td>0</td>\n",
              "      <td>0</td>\n",
              "      <td>0</td>\n",
              "      <td>0</td>\n",
              "      <td>0</td>\n",
              "      <td>0</td>\n",
              "      <td>0</td>\n",
              "      <td>0</td>\n",
              "      <td>0</td>\n",
              "      <td>0</td>\n",
              "      <td>0</td>\n",
              "      <td>0</td>\n",
              "      <td>0</td>\n",
              "      <td>0</td>\n",
              "      <td>0</td>\n",
              "      <td>0</td>\n",
              "      <td>0</td>\n",
              "      <td>0</td>\n",
              "      <td>0</td>\n",
              "      <td>0</td>\n",
              "      <td>0</td>\n",
              "      <td>0</td>\n",
              "      <td>0</td>\n",
              "      <td>...</td>\n",
              "      <td>0</td>\n",
              "      <td>1</td>\n",
              "      <td>0</td>\n",
              "      <td>0</td>\n",
              "      <td>0</td>\n",
              "      <td>0</td>\n",
              "      <td>0</td>\n",
              "      <td>0</td>\n",
              "      <td>0</td>\n",
              "      <td>0</td>\n",
              "      <td>0</td>\n",
              "      <td>0</td>\n",
              "      <td>0</td>\n",
              "      <td>0</td>\n",
              "      <td>0</td>\n",
              "      <td>0</td>\n",
              "      <td>0</td>\n",
              "      <td>0</td>\n",
              "      <td>0</td>\n",
              "      <td>0</td>\n",
              "      <td>1</td>\n",
              "      <td>0</td>\n",
              "      <td>0</td>\n",
              "      <td>0</td>\n",
              "      <td>0</td>\n",
              "      <td>0</td>\n",
              "      <td>0</td>\n",
              "      <td>0</td>\n",
              "      <td>0</td>\n",
              "      <td>0</td>\n",
              "      <td>0</td>\n",
              "      <td>0</td>\n",
              "      <td>0</td>\n",
              "      <td>0</td>\n",
              "      <td>0</td>\n",
              "      <td>0</td>\n",
              "      <td>0</td>\n",
              "      <td>0</td>\n",
              "      <td>0</td>\n",
              "      <td>0</td>\n",
              "    </tr>\n",
              "    <tr>\n",
              "      <th>100</th>\n",
              "      <td>0</td>\n",
              "      <td>0</td>\n",
              "      <td>0</td>\n",
              "      <td>0</td>\n",
              "      <td>0</td>\n",
              "      <td>0</td>\n",
              "      <td>0</td>\n",
              "      <td>0</td>\n",
              "      <td>0</td>\n",
              "      <td>0</td>\n",
              "      <td>0</td>\n",
              "      <td>1</td>\n",
              "      <td>0</td>\n",
              "      <td>0</td>\n",
              "      <td>0</td>\n",
              "      <td>0</td>\n",
              "      <td>0</td>\n",
              "      <td>0</td>\n",
              "      <td>0</td>\n",
              "      <td>0</td>\n",
              "      <td>0</td>\n",
              "      <td>0</td>\n",
              "      <td>0</td>\n",
              "      <td>0</td>\n",
              "      <td>0</td>\n",
              "      <td>0</td>\n",
              "      <td>0</td>\n",
              "      <td>0</td>\n",
              "      <td>0</td>\n",
              "      <td>0</td>\n",
              "      <td>0</td>\n",
              "      <td>0</td>\n",
              "      <td>0</td>\n",
              "      <td>0</td>\n",
              "      <td>0</td>\n",
              "      <td>0</td>\n",
              "      <td>0</td>\n",
              "      <td>0</td>\n",
              "      <td>0</td>\n",
              "      <td>0</td>\n",
              "      <td>...</td>\n",
              "      <td>0</td>\n",
              "      <td>0</td>\n",
              "      <td>0</td>\n",
              "      <td>0</td>\n",
              "      <td>0</td>\n",
              "      <td>0</td>\n",
              "      <td>0</td>\n",
              "      <td>0</td>\n",
              "      <td>0</td>\n",
              "      <td>0</td>\n",
              "      <td>0</td>\n",
              "      <td>0</td>\n",
              "      <td>0</td>\n",
              "      <td>0</td>\n",
              "      <td>0</td>\n",
              "      <td>0</td>\n",
              "      <td>0</td>\n",
              "      <td>0</td>\n",
              "      <td>0</td>\n",
              "      <td>0</td>\n",
              "      <td>0</td>\n",
              "      <td>0</td>\n",
              "      <td>0</td>\n",
              "      <td>0</td>\n",
              "      <td>0</td>\n",
              "      <td>0</td>\n",
              "      <td>0</td>\n",
              "      <td>0</td>\n",
              "      <td>0</td>\n",
              "      <td>0</td>\n",
              "      <td>0</td>\n",
              "      <td>0</td>\n",
              "      <td>0</td>\n",
              "      <td>0</td>\n",
              "      <td>0</td>\n",
              "      <td>0</td>\n",
              "      <td>0</td>\n",
              "      <td>0</td>\n",
              "      <td>0</td>\n",
              "      <td>0</td>\n",
              "    </tr>\n",
              "    <tr>\n",
              "      <th>1000</th>\n",
              "      <td>0</td>\n",
              "      <td>0</td>\n",
              "      <td>0</td>\n",
              "      <td>0</td>\n",
              "      <td>0</td>\n",
              "      <td>0</td>\n",
              "      <td>0</td>\n",
              "      <td>0</td>\n",
              "      <td>0</td>\n",
              "      <td>0</td>\n",
              "      <td>0</td>\n",
              "      <td>0</td>\n",
              "      <td>0</td>\n",
              "      <td>0</td>\n",
              "      <td>0</td>\n",
              "      <td>0</td>\n",
              "      <td>0</td>\n",
              "      <td>0</td>\n",
              "      <td>0</td>\n",
              "      <td>0</td>\n",
              "      <td>1</td>\n",
              "      <td>0</td>\n",
              "      <td>0</td>\n",
              "      <td>0</td>\n",
              "      <td>0</td>\n",
              "      <td>0</td>\n",
              "      <td>0</td>\n",
              "      <td>0</td>\n",
              "      <td>0</td>\n",
              "      <td>0</td>\n",
              "      <td>0</td>\n",
              "      <td>0</td>\n",
              "      <td>0</td>\n",
              "      <td>0</td>\n",
              "      <td>0</td>\n",
              "      <td>0</td>\n",
              "      <td>0</td>\n",
              "      <td>0</td>\n",
              "      <td>0</td>\n",
              "      <td>0</td>\n",
              "      <td>...</td>\n",
              "      <td>0</td>\n",
              "      <td>0</td>\n",
              "      <td>0</td>\n",
              "      <td>0</td>\n",
              "      <td>0</td>\n",
              "      <td>0</td>\n",
              "      <td>0</td>\n",
              "      <td>0</td>\n",
              "      <td>0</td>\n",
              "      <td>0</td>\n",
              "      <td>0</td>\n",
              "      <td>0</td>\n",
              "      <td>0</td>\n",
              "      <td>0</td>\n",
              "      <td>0</td>\n",
              "      <td>0</td>\n",
              "      <td>0</td>\n",
              "      <td>0</td>\n",
              "      <td>0</td>\n",
              "      <td>0</td>\n",
              "      <td>1</td>\n",
              "      <td>0</td>\n",
              "      <td>0</td>\n",
              "      <td>0</td>\n",
              "      <td>0</td>\n",
              "      <td>0</td>\n",
              "      <td>0</td>\n",
              "      <td>0</td>\n",
              "      <td>0</td>\n",
              "      <td>0</td>\n",
              "      <td>0</td>\n",
              "      <td>0</td>\n",
              "      <td>0</td>\n",
              "      <td>0</td>\n",
              "      <td>0</td>\n",
              "      <td>0</td>\n",
              "      <td>0</td>\n",
              "      <td>0</td>\n",
              "      <td>0</td>\n",
              "      <td>0</td>\n",
              "    </tr>\n",
              "    <tr>\n",
              "      <th>1001</th>\n",
              "      <td>0</td>\n",
              "      <td>0</td>\n",
              "      <td>0</td>\n",
              "      <td>0</td>\n",
              "      <td>0</td>\n",
              "      <td>0</td>\n",
              "      <td>0</td>\n",
              "      <td>0</td>\n",
              "      <td>0</td>\n",
              "      <td>0</td>\n",
              "      <td>0</td>\n",
              "      <td>1</td>\n",
              "      <td>0</td>\n",
              "      <td>0</td>\n",
              "      <td>0</td>\n",
              "      <td>0</td>\n",
              "      <td>0</td>\n",
              "      <td>0</td>\n",
              "      <td>0</td>\n",
              "      <td>0</td>\n",
              "      <td>0</td>\n",
              "      <td>0</td>\n",
              "      <td>0</td>\n",
              "      <td>0</td>\n",
              "      <td>0</td>\n",
              "      <td>0</td>\n",
              "      <td>0</td>\n",
              "      <td>0</td>\n",
              "      <td>0</td>\n",
              "      <td>0</td>\n",
              "      <td>0</td>\n",
              "      <td>0</td>\n",
              "      <td>0</td>\n",
              "      <td>0</td>\n",
              "      <td>0</td>\n",
              "      <td>0</td>\n",
              "      <td>0</td>\n",
              "      <td>0</td>\n",
              "      <td>0</td>\n",
              "      <td>0</td>\n",
              "      <td>...</td>\n",
              "      <td>0</td>\n",
              "      <td>0</td>\n",
              "      <td>0</td>\n",
              "      <td>0</td>\n",
              "      <td>0</td>\n",
              "      <td>0</td>\n",
              "      <td>0</td>\n",
              "      <td>0</td>\n",
              "      <td>0</td>\n",
              "      <td>0</td>\n",
              "      <td>0</td>\n",
              "      <td>0</td>\n",
              "      <td>0</td>\n",
              "      <td>0</td>\n",
              "      <td>0</td>\n",
              "      <td>0</td>\n",
              "      <td>0</td>\n",
              "      <td>0</td>\n",
              "      <td>0</td>\n",
              "      <td>0</td>\n",
              "      <td>0</td>\n",
              "      <td>0</td>\n",
              "      <td>0</td>\n",
              "      <td>0</td>\n",
              "      <td>0</td>\n",
              "      <td>0</td>\n",
              "      <td>0</td>\n",
              "      <td>0</td>\n",
              "      <td>0</td>\n",
              "      <td>0</td>\n",
              "      <td>0</td>\n",
              "      <td>0</td>\n",
              "      <td>0</td>\n",
              "      <td>0</td>\n",
              "      <td>1</td>\n",
              "      <td>0</td>\n",
              "      <td>0</td>\n",
              "      <td>0</td>\n",
              "      <td>0</td>\n",
              "      <td>0</td>\n",
              "    </tr>\n",
              "  </tbody>\n",
              "</table>\n",
              "<p>5 rows × 94 columns</p>\n",
              "</div>"
            ],
            "text/plain": [
              "Item         Adjustment  ...  Victorian Sponge\n",
              "Transaction              ...                  \n",
              "1                     0  ...                 0\n",
              "10                    0  ...                 0\n",
              "100                   0  ...                 0\n",
              "1000                  0  ...                 0\n",
              "1001                  0  ...                 0\n",
              "\n",
              "[5 rows x 94 columns]"
            ]
          },
          "metadata": {},
          "execution_count": 15
        }
      ]
    },
    {
      "cell_type": "code",
      "metadata": {
        "id": "s9ZQUuawPkAb"
      },
      "source": [
        "#Generating frequent items\n",
        "\n",
        "freq_itemsets = apriori(apriori_basket_set, min_support=0.05, use_colnames=True)"
      ],
      "execution_count": 16,
      "outputs": []
    },
    {
      "cell_type": "code",
      "metadata": {
        "colab": {
          "base_uri": "https://localhost:8080/",
          "height": 390
        },
        "id": "LtvA2KJi9FR3",
        "outputId": "dc75841b-ab55-4728-df53-647f6572ddd9"
      },
      "source": [
        "#viewing freq_items\n",
        "\n",
        "freq_itemsets"
      ],
      "execution_count": 17,
      "outputs": [
        {
          "output_type": "execute_result",
          "data": {
            "text/html": [
              "<div>\n",
              "<style scoped>\n",
              "    .dataframe tbody tr th:only-of-type {\n",
              "        vertical-align: middle;\n",
              "    }\n",
              "\n",
              "    .dataframe tbody tr th {\n",
              "        vertical-align: top;\n",
              "    }\n",
              "\n",
              "    .dataframe thead th {\n",
              "        text-align: right;\n",
              "    }\n",
              "</style>\n",
              "<table border=\"1\" class=\"dataframe\">\n",
              "  <thead>\n",
              "    <tr style=\"text-align: right;\">\n",
              "      <th></th>\n",
              "      <th>support</th>\n",
              "      <th>itemsets</th>\n",
              "    </tr>\n",
              "  </thead>\n",
              "  <tbody>\n",
              "    <tr>\n",
              "      <th>0</th>\n",
              "      <td>0.327205</td>\n",
              "      <td>(Bread)</td>\n",
              "    </tr>\n",
              "    <tr>\n",
              "      <th>1</th>\n",
              "      <td>0.103856</td>\n",
              "      <td>(Cake)</td>\n",
              "    </tr>\n",
              "    <tr>\n",
              "      <th>2</th>\n",
              "      <td>0.478394</td>\n",
              "      <td>(Coffee)</td>\n",
              "    </tr>\n",
              "    <tr>\n",
              "      <th>3</th>\n",
              "      <td>0.054411</td>\n",
              "      <td>(Cookies)</td>\n",
              "    </tr>\n",
              "    <tr>\n",
              "      <th>4</th>\n",
              "      <td>0.058320</td>\n",
              "      <td>(Hot chocolate)</td>\n",
              "    </tr>\n",
              "    <tr>\n",
              "      <th>5</th>\n",
              "      <td>0.061807</td>\n",
              "      <td>(Medialuna)</td>\n",
              "    </tr>\n",
              "    <tr>\n",
              "      <th>6</th>\n",
              "      <td>0.086107</td>\n",
              "      <td>(Pastry)</td>\n",
              "    </tr>\n",
              "    <tr>\n",
              "      <th>7</th>\n",
              "      <td>0.071844</td>\n",
              "      <td>(Sandwich)</td>\n",
              "    </tr>\n",
              "    <tr>\n",
              "      <th>8</th>\n",
              "      <td>0.142631</td>\n",
              "      <td>(Tea)</td>\n",
              "    </tr>\n",
              "    <tr>\n",
              "      <th>9</th>\n",
              "      <td>0.090016</td>\n",
              "      <td>(Bread, Coffee)</td>\n",
              "    </tr>\n",
              "    <tr>\n",
              "      <th>10</th>\n",
              "      <td>0.054728</td>\n",
              "      <td>(Cake, Coffee)</td>\n",
              "    </tr>\n",
              "  </tbody>\n",
              "</table>\n",
              "</div>"
            ],
            "text/plain": [
              "     support         itemsets\n",
              "0   0.327205          (Bread)\n",
              "1   0.103856           (Cake)\n",
              "2   0.478394         (Coffee)\n",
              "3   0.054411        (Cookies)\n",
              "4   0.058320  (Hot chocolate)\n",
              "5   0.061807      (Medialuna)\n",
              "6   0.086107         (Pastry)\n",
              "7   0.071844       (Sandwich)\n",
              "8   0.142631            (Tea)\n",
              "9   0.090016  (Bread, Coffee)\n",
              "10  0.054728   (Cake, Coffee)"
            ]
          },
          "metadata": {},
          "execution_count": 17
        }
      ]
    },
    {
      "cell_type": "code",
      "metadata": {
        "id": "4RA7YP0a9XK1"
      },
      "source": [
        "#generating rules\n",
        "\n",
        "my_rules = association_rules(freq_itemsets, metric=\"confidence\", min_threshold=0.05)\n",
        "my_rules.sort_values('confidence', ascending = False, inplace = True)"
      ],
      "execution_count": 18,
      "outputs": []
    },
    {
      "cell_type": "code",
      "metadata": {
        "colab": {
          "base_uri": "https://localhost:8080/",
          "height": 173
        },
        "id": "TwRLopEV-JS2",
        "outputId": "08d072bc-5105-4d09-999f-4d8058272ddc"
      },
      "source": [
        "my_rules"
      ],
      "execution_count": 19,
      "outputs": [
        {
          "output_type": "execute_result",
          "data": {
            "text/html": [
              "<div>\n",
              "<style scoped>\n",
              "    .dataframe tbody tr th:only-of-type {\n",
              "        vertical-align: middle;\n",
              "    }\n",
              "\n",
              "    .dataframe tbody tr th {\n",
              "        vertical-align: top;\n",
              "    }\n",
              "\n",
              "    .dataframe thead th {\n",
              "        text-align: right;\n",
              "    }\n",
              "</style>\n",
              "<table border=\"1\" class=\"dataframe\">\n",
              "  <thead>\n",
              "    <tr style=\"text-align: right;\">\n",
              "      <th></th>\n",
              "      <th>antecedents</th>\n",
              "      <th>consequents</th>\n",
              "      <th>antecedent support</th>\n",
              "      <th>consequent support</th>\n",
              "      <th>support</th>\n",
              "      <th>confidence</th>\n",
              "      <th>lift</th>\n",
              "      <th>leverage</th>\n",
              "      <th>conviction</th>\n",
              "    </tr>\n",
              "  </thead>\n",
              "  <tbody>\n",
              "    <tr>\n",
              "      <th>2</th>\n",
              "      <td>(Cake)</td>\n",
              "      <td>(Coffee)</td>\n",
              "      <td>0.103856</td>\n",
              "      <td>0.478394</td>\n",
              "      <td>0.054728</td>\n",
              "      <td>0.526958</td>\n",
              "      <td>1.101515</td>\n",
              "      <td>0.005044</td>\n",
              "      <td>1.102664</td>\n",
              "    </tr>\n",
              "    <tr>\n",
              "      <th>0</th>\n",
              "      <td>(Bread)</td>\n",
              "      <td>(Coffee)</td>\n",
              "      <td>0.327205</td>\n",
              "      <td>0.478394</td>\n",
              "      <td>0.090016</td>\n",
              "      <td>0.275105</td>\n",
              "      <td>0.575059</td>\n",
              "      <td>-0.066517</td>\n",
              "      <td>0.719561</td>\n",
              "    </tr>\n",
              "    <tr>\n",
              "      <th>1</th>\n",
              "      <td>(Coffee)</td>\n",
              "      <td>(Bread)</td>\n",
              "      <td>0.478394</td>\n",
              "      <td>0.327205</td>\n",
              "      <td>0.090016</td>\n",
              "      <td>0.188163</td>\n",
              "      <td>0.575059</td>\n",
              "      <td>-0.066517</td>\n",
              "      <td>0.828731</td>\n",
              "    </tr>\n",
              "    <tr>\n",
              "      <th>3</th>\n",
              "      <td>(Coffee)</td>\n",
              "      <td>(Cake)</td>\n",
              "      <td>0.478394</td>\n",
              "      <td>0.103856</td>\n",
              "      <td>0.054728</td>\n",
              "      <td>0.114399</td>\n",
              "      <td>1.101515</td>\n",
              "      <td>0.005044</td>\n",
              "      <td>1.011905</td>\n",
              "    </tr>\n",
              "  </tbody>\n",
              "</table>\n",
              "</div>"
            ],
            "text/plain": [
              "  antecedents consequents  antecedent support  ...      lift  leverage  conviction\n",
              "2      (Cake)    (Coffee)            0.103856  ...  1.101515  0.005044    1.102664\n",
              "0     (Bread)    (Coffee)            0.327205  ...  0.575059 -0.066517    0.719561\n",
              "1    (Coffee)     (Bread)            0.478394  ...  0.575059 -0.066517    0.828731\n",
              "3    (Coffee)      (Cake)            0.478394  ...  1.101515  0.005044    1.011905\n",
              "\n",
              "[4 rows x 9 columns]"
            ]
          },
          "metadata": {},
          "execution_count": 19
        }
      ]
    },
    {
      "cell_type": "markdown",
      "metadata": {
        "id": "FYVTLDlnuB7j"
      },
      "source": [
        "###Making Recommendations"
      ]
    },
    {
      "cell_type": "code",
      "metadata": {
        "colab": {
          "base_uri": "https://localhost:8080/"
        },
        "id": "7E77AbyBt0oU",
        "outputId": "65ee6151-5b1d-4077-ce6a-770d6826df04"
      },
      "source": [
        "apriori_basket['Coffee'].sum()"
      ],
      "execution_count": 20,
      "outputs": [
        {
          "output_type": "execute_result",
          "data": {
            "text/plain": [
              "5471.0"
            ]
          },
          "metadata": {},
          "execution_count": 20
        }
      ]
    },
    {
      "cell_type": "code",
      "metadata": {
        "colab": {
          "base_uri": "https://localhost:8080/"
        },
        "id": "oGhpUG-puAqL",
        "outputId": "591106f8-99f1-4ea4-9fa3-3fa895ec5fa9"
      },
      "source": [
        "apriori_basket['Eggs'].sum()"
      ],
      "execution_count": 21,
      "outputs": [
        {
          "output_type": "execute_result",
          "data": {
            "text/plain": [
              "28.0"
            ]
          },
          "metadata": {},
          "execution_count": 21
        }
      ]
    },
    {
      "cell_type": "code",
      "metadata": {
        "colab": {
          "base_uri": "https://localhost:8080/",
          "height": 80
        },
        "id": "t-Ygyk6W61IY",
        "outputId": "5c49aa89-0334-4e67-f052-a65a1f5dddd7"
      },
      "source": [
        "#filtering rules\n",
        "\n",
        "my_rules[ (my_rules['lift'] >= 1) &\n",
        "       (my_rules['confidence'] >= 0.3) ]"
      ],
      "execution_count": 22,
      "outputs": [
        {
          "output_type": "execute_result",
          "data": {
            "text/html": [
              "<div>\n",
              "<style scoped>\n",
              "    .dataframe tbody tr th:only-of-type {\n",
              "        vertical-align: middle;\n",
              "    }\n",
              "\n",
              "    .dataframe tbody tr th {\n",
              "        vertical-align: top;\n",
              "    }\n",
              "\n",
              "    .dataframe thead th {\n",
              "        text-align: right;\n",
              "    }\n",
              "</style>\n",
              "<table border=\"1\" class=\"dataframe\">\n",
              "  <thead>\n",
              "    <tr style=\"text-align: right;\">\n",
              "      <th></th>\n",
              "      <th>antecedents</th>\n",
              "      <th>consequents</th>\n",
              "      <th>antecedent support</th>\n",
              "      <th>consequent support</th>\n",
              "      <th>support</th>\n",
              "      <th>confidence</th>\n",
              "      <th>lift</th>\n",
              "      <th>leverage</th>\n",
              "      <th>conviction</th>\n",
              "    </tr>\n",
              "  </thead>\n",
              "  <tbody>\n",
              "    <tr>\n",
              "      <th>2</th>\n",
              "      <td>(Cake)</td>\n",
              "      <td>(Coffee)</td>\n",
              "      <td>0.103856</td>\n",
              "      <td>0.478394</td>\n",
              "      <td>0.054728</td>\n",
              "      <td>0.526958</td>\n",
              "      <td>1.101515</td>\n",
              "      <td>0.005044</td>\n",
              "      <td>1.102664</td>\n",
              "    </tr>\n",
              "  </tbody>\n",
              "</table>\n",
              "</div>"
            ],
            "text/plain": [
              "  antecedents consequents  antecedent support  ...      lift  leverage  conviction\n",
              "2      (Cake)    (Coffee)            0.103856  ...  1.101515  0.005044    1.102664\n",
              "\n",
              "[1 rows x 9 columns]"
            ]
          },
          "metadata": {},
          "execution_count": 22
        }
      ]
    },
    {
      "cell_type": "markdown",
      "metadata": {
        "id": "LkxTNFZ_4JQn"
      },
      "source": [
        "###Data Visualization"
      ]
    },
    {
      "cell_type": "code",
      "metadata": {
        "id": "68UDtfP64LxA"
      },
      "source": [
        "import matplotlib.pyplot as plt\n",
        "import seaborn as sns"
      ],
      "execution_count": 23,
      "outputs": []
    },
    {
      "cell_type": "code",
      "metadata": {
        "colab": {
          "base_uri": "https://localhost:8080/",
          "height": 405
        },
        "id": "G-cX8Pp54iP1",
        "outputId": "d1d3bb21-9a66-4d2e-f9f0-f463e3c9d865"
      },
      "source": [
        "plt.figure(figsize=(15,5))\n",
        "sns.barplot(x = df.Item.value_counts().head(20).index, y = df.Item.value_counts().head(20).values)\n",
        "plt.xlabel('Items', size = 15)\n",
        "plt.xticks(rotation=45)\n",
        "plt.ylabel('Count of Items', size = 15)\n",
        "plt.title('Top 20 Items purchased by customers',size = 20)\n",
        "plt.show()"
      ],
      "execution_count": 24,
      "outputs": [
        {
          "output_type": "display_data",
          "data": {
            "image/png": "[encoded data removed]",
            "text/plain": [
              "<Figure size 1080x360 with 1 Axes>"
            ]
          },
          "metadata": {
            "needs_background": "light"
          }
        }
      ]
    },
    {
      "cell_type": "code",
      "metadata": {
        "colab": {
          "base_uri": "https://localhost:8080/",
          "height": 360
        },
        "id": "9MyCpc107ruG",
        "outputId": "84c6f4a4-1b3e-41c4-b7e7-f985547476ea"
      },
      "source": [
        "monthTran = df.groupby('month')['Transaction'].count().reset_index()\n",
        "monthTran.loc[:,\"monthorder\"] = [4,8,12,2,1,7,6,3,5,11,10,9]\n",
        "monthTran.sort_values(\"monthorder\",inplace=True)\n",
        "\n",
        "plt.figure(figsize=(12,5))\n",
        "sns.barplot(data = monthTran, x = \"month\", y = \"Transaction\",color='blue')\n",
        "plt.xlabel('Months', size = 15)\n",
        "plt.ylabel('Orders per month', size = 15)\n",
        "plt.title('Number of orders received each month',size = 20)\n",
        "plt.show()"
      ],
      "execution_count": 25,
      "outputs": [
        {
          "output_type": "display_data",
          "data": {
            "image/png": "[encoded data removed]",
            "text/plain": [
              "<Figure size 864x360 with 1 Axes>"
            ]
          },
          "metadata": {
            "needs_background": "light"
          }
        }
      ]
    },
    {
      "cell_type": "code",
      "metadata": {
        "colab": {
          "base_uri": "https://localhost:8080/",
          "height": 360
        },
        "id": "Ow_J4suw56Rw",
        "outputId": "98cdaecf-4c21-42e2-f622-01d2dbbbc39e"
      },
      "source": [
        "plt.figure(figsize=(10,5))\n",
        "sns.barplot(x = df.period_day.value_counts().index, y = df.period_day.value_counts().values, color='green')\n",
        "plt.xlabel('Period', size = 15)\n",
        "plt.ylabel('Orders per period', size = 15)\n",
        "plt.title('Number of orders received in each period of a day', size = 20)\n",
        "plt.show()"
      ],
      "execution_count": 26,
      "outputs": [
        {
          "output_type": "display_data",
          "data": {
            "image/png": "[encoded data removed]",
            "text/plain": [
              "<Figure size 720x360 with 1 Axes>"
            ]
          },
          "metadata": {
            "needs_background": "light"
          }
        }
      ]
    },
    {
      "cell_type": "code",
      "metadata": {
        "colab": {
          "base_uri": "https://localhost:8080/",
          "height": 360
        },
        "id": "68B3Qs0o-pJK",
        "outputId": "772e14fa-dce2-407e-9d8d-750058da1392"
      },
      "source": [
        "weekTran = df.groupby('weekday')['Transaction'].count().reset_index()\n",
        "weekTran.loc[:,\"weekorder\"] = [4,0,5,6,3,1,2]\n",
        "weekTran.sort_values(\"weekorder\",inplace=True)\n",
        "\n",
        "plt.figure(figsize=(12,5))\n",
        "sns.barplot(data = weekTran, x = \"weekday\", y = \"Transaction\")\n",
        "plt.xlabel('Week Day', size = 15)\n",
        "plt.ylabel('Orders per day', size = 15)\n",
        "plt.title('Number of orders received each day',size = 20)\n",
        "plt.show()\n",
        "\n",
        "plt.show()"
      ],
      "execution_count": 27,
      "outputs": [
        {
          "output_type": "display_data",
          "data": {
            "image/png": "[encoded data removed]",
            "text/plain": [
              "<Figure size 864x360 with 1 Axes>"
            ]
          },
          "metadata": {
            "needs_background": "light"
          }
        }
      ]
    }
  ]
}